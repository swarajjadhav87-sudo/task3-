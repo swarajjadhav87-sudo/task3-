{
  "nbformat": 4,
  "nbformat_minor": 0,
  "metadata": {
    "colab": {
      "provenance": [],
      "toc_visible": true
    },
    "kernelspec": {
      "name": "python3",
      "display_name": "Python 3"
    },
    "language_info": {
      "name": "python"
    }
  },
  "cells": [
    {
      "cell_type": "code",
      "execution_count": null,
      "metadata": {
        "id": "OSh1AZ24_OlF"
      },
      "outputs": [],
      "source": [
        "1)I What is Linux?\n",
        "Linux is one of the most widely used open-source operating systems. It's fast, secure, stable, and powers everything from smartphones and servers to cloud platforms and IoT devices. Linux is especially popular among developers, system administrators, and DevOps professionals.\n",
        "Linux is:\n",
        "\n",
        "A Unix-like OS used in servers, cloud infrastructure, supercomputers, personal computers and embedded systems.\n",
        "Reliable and secure, making it ideal for web hosting, networking, and automation.\n",
        "Preferred in DevOps, where it's used for scripting, configuration, containerization (Docker), and CI/CD pipelines.\n",
        "Open-source and customizable, giving users full control over their systems and workflows.\n"
      ]
    },
    {
      "cell_type": "markdown",
      "source": [
        "2) What is the difference between Hard Link & Soft Link ?\n",
        "a) Hard link : Have same inode number meanshile softlink has differient inode number\n",
        "b) Hard link can not be allowed for the directories but soft link used for linking directories\n",
        "c)Hard link can ot be used across file system but soft link can be used acorss file system\n",
        "d)Data present in the original file will still be available in the hard links but Soft links only point to the file name, it does not retain data of the file.\n",
        "e) In hard link If the original file is removed, the link will still work as it accesses the data the original was having access to. but in soft ink If the original file is removed, the link will not work as it doesn't access the original file's data.\n",
        "f)Hard link completly faster but soft link are slower.\n"
      ],
      "metadata": {
        "id": "vU7fqI1a_1-f"
      }
    },
    {
      "cell_type": "markdown",
      "source": [
        "3) What is a Kernel in Linux?\n",
        "Linux Kernel is the heart of Linux operating systems. It is an open-source (source code that can be used by anyone freely) software that is most popular and widely used in the industry as well as on a personal use basis. Who created Linux and why? Linux was created by Linus Torvalds in 1991 as a hobby project. Since then, many of the users have contributed to its growth and development of it. Before Jumping directly to the main topic \"Linux Kernel\" one must know a few concepts (prerequisites) to better understand the Linux Kernel."
      ],
      "metadata": {
        "id": "enkKb_V7Br2b"
      }
    },
    {
      "cell_type": "markdown",
      "source": [
        "4) How do you create a user account?\n",
        "useradd is a command in Linux that is used to add user accounts to your system. It is just a symbolic link to adduser command in Linux and the difference between both of them is that useradd is a native binary compiled with the system whereas adduser is a Perl script that uses useradd binary in the background. It makes changes to the following files:\n",
        "\n",
        "/etc/passwd\n",
        "/etc/shadow\n",
        "/etc/group\n",
        "/etc/gshadow\n",
        "creates a directory for new user in /home\n",
        "The basic syntac for the `useradd` command is as follows.\n",
        "useradd [options] [User_name]\n",
        "Working with `useradd` Command\n",
        "1. How to Add a User in Linux\n",
        "This command will add the user named \"test_user\".\n",
        "sudo useradd test_user\n",
        "2. How to Add User by Specifying a home directory path for the new user\n",
        "To give a home directory path for new users, we use the following command in Linux.\n",
        "\n",
        "sudo useradd -d /home/test_user test_user\n",
        "3)9. How to Set an Unencrypted Password for the User\n",
        "To set an unencrypted password for the user, we use the following command.\n",
        "\n",
        "sudo useradd -p test_password test_user\n"
      ],
      "metadata": {
        "id": "dbwnP57VCLGi"
      }
    },
    {
      "cell_type": "markdown",
      "source": [
        "5)What is the ‘grep’ command used for in Linux?\n",
        "Searches a file for a particular pattern of characters, and displays all lines that contain that pattern"
      ],
      "metadata": {
        "id": "pYvi1ESGDYub"
      }
    },
    {
      "cell_type": "markdown",
      "source": [
        "6)I Step1: Create user p1\n",
        "\n",
        "Step2: He should be part of 3 groups g1,g2,g3.\n",
        "\n",
        "Step3: whenever he creates a file automatically in the group section of file grp g1 should come.\n",
        "ans:\n",
        "Step 1: Create the user p1\n",
        "\n",
        "sudo useradd p1\n",
        "sudo passwd p1\n",
        "Step 2: Create the groups g1, g2, and g3\n",
        "sudo groupadd g1\n",
        "sudo groupadd g2\n",
        "sudo groupadd g3\n",
        "\n",
        "Step 3: Add user p1 to all three groups\n",
        "sudo usermod -aG g1,g2,g3 p1\n",
        "You can verify with:\n",
        "\n",
        "groups p1\n",
        "Step 4: Make sure new files by p1 get group g1 automatically\n"
      ],
      "metadata": {
        "id": "xqq4g5u_Dtc6"
      }
    },
    {
      "cell_type": "markdown",
      "source": [
        "7. Step1: Create directory /tmp/bg as root user and create files inside it.\n",
        "\n",
        "Step2: “abhi” should be the owner of the directory. He should be able to create files and delete files inside\n",
        "the directory and also he should be able to add content to all files inside the directory.\n",
        "ans :\n",
        "Step 1: Create the directory and files as root\n",
        "sudo mkdir /tmp/bg\n",
        "cd /tmp/bg\n",
        "sudo touch file1 file2 file3\n",
        "Step 2: Create user abhi (if not already exists)\n",
        "sudo useradd abhi\n",
        "sudo passwd abhi\n",
        "Step 3: Make abhi the owner of the directory\n",
        "sudo chown -R abhi /tmp/bg\n",
        "Step 4: Give correct permissions\n",
        "\n",
        "You want abhi to:\n",
        "\n",
        "Create files → needs write (w) + execute (x) on directory\n",
        "\n",
        "Delete files → needs write (w) + execute (x) on directory\n",
        "\n",
        "Add content to all files → needs write (w) on files\n",
        "So, set permissions like this:\n",
        "\n",
        "sudo chmod 755 /tmp/bg        # owner has rwx, others only read/execute\n",
        "sudo chmod 644 /tmp/bg/*\n",
        "(Or you can give full control to abhi if required:)\n",
        "\n",
        "sudo chmod 700 /tmp/bg\n",
        "sudo chmod 600 /tmp/bg/*\n",
        "\n",
        "Step 5: Verify as abhi\n",
        "su - abhi\n",
        "cd /tmp/bg\n",
        "touch newfile          # should work\n",
        "echo \"hello\" >> file1  # should work\n",
        "rm file2               # should work"
      ],
      "metadata": {
        "id": "orNN0CKBE7Sw"
      }
    },
    {
      "cell_type": "markdown",
      "source": [
        "8. You suspect that a particular process is consuming excessive CPU resources on your Linux server. How\n",
        "would you identify and terminate this process?\n",
        "Step 1: Use ‘top’ or ‘ps’ command to identify the process using high CPU.\n",
        "        Example:  ps -eo pid,ppid,cmd,%mem,%cpu --sort=-%cpu | head\n",
        "Step 2: Note the PID of the process.\n",
        "Step 3: Terminate it using:\n",
        "        kill <PID>     or     kill -9 <PID>   (for force kill)\n",
        "Step 4: Verify using ‘top’ or ‘ps’ command again.\n",
        "Result: The high CPU consuming process is identified and terminated successfully.\n"
      ],
      "metadata": {
        "id": "gHx27wbFFwGa"
      }
    }
  ]
}